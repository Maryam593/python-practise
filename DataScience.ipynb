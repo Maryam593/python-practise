{
 "cells": [
  {
   "cell_type": "code",
   "execution_count": 2,
   "id": "0540383b-42b3-472b-9706-dedd7c9a983f",
   "metadata": {},
   "outputs": [
    {
     "name": "stdout",
     "output_type": "stream",
     "text": [
      "[1 3 4 5]\n",
      "<class 'numpy.ndarray'>\n"
     ]
    }
   ],
   "source": [
    "#numpy\n",
    "#create numpy array\n",
    "#num py in 1D array\n",
    "import numpy as np\n",
    "arr = np.array([1,3,4,5])\n",
    "print(arr)\n",
    "print(type(arr)"
   ]
  },
  {
   "cell_type": "code",
   "execution_count": 4,
   "id": "65d71083-9bbc-408e-9d50-f9162de73079",
   "metadata": {},
   "outputs": [
    {
     "name": "stdout",
     "output_type": "stream",
     "text": [
      "[[1 2 3]\n",
      " [4 5 6]]\n",
      "<class 'numpy.ndarray'>\n"
     ]
    }
   ],
   "source": [
    "#numpy in 2D array \n",
    "import numpy as np\n",
    "arr = np.array([[1,2,3],[4,5,6]])\n",
    "print(arr)\n",
    "print(type(arr))"
   ]
  },
  {
   "cell_type": "code",
   "execution_count": 5,
   "id": "05caf35f-1b14-44dd-861c-3f9b9330d4d2",
   "metadata": {},
   "outputs": [
    {
     "name": "stdout",
     "output_type": "stream",
     "text": [
      "[[[1 2 3]\n",
      "  [4 5 6]]\n",
      "\n",
      " [[1 2 3]\n",
      "  [4 5 6]]]\n"
     ]
    }
   ],
   "source": [
    "#numpy in 3D array\n",
    "import numpy as np\n",
    "\n",
    "arr = np.array([[[1, 2, 3], [4, 5, 6]], [[1, 2, 3], [4, 5, 6]]])\n",
    "\n",
    "print(arr)"
   ]
  },
  {
   "cell_type": "code",
   "execution_count": 7,
   "id": "06b83e95-d206-463b-9ae6-62d356651027",
   "metadata": {},
   "outputs": [
    {
     "name": "stdout",
     "output_type": "stream",
     "text": [
      "0\n",
      "1\n",
      "2\n",
      "3\n"
     ]
    }
   ],
   "source": [
    "#check number of dimensions\n",
    "import numpy as np\n",
    "\n",
    "a = np.array(42)\n",
    "b = np.array([1, 2, 3, 4, 5])\n",
    "c = np.array([[1, 2, 3], [4, 5, 6]])\n",
    "d = np.array([[[1, 2, 3], [4, 5, 6]], [[1, 2, 3], [4, 5, 6]]])\n",
    "#ndim is use to check dimensions\n",
    "print(a.ndim)\n",
    "print(b.ndim)\n",
    "print(c.ndim)\n",
    "print(d.ndim)"
   ]
  },
  {
   "cell_type": "code",
   "execution_count": 11,
   "id": "a7ee0611-a949-4ec9-afbc-9614d84d810f",
   "metadata": {},
   "outputs": [
    {
     "name": "stdout",
     "output_type": "stream",
     "text": [
      "[[[[[1 2 3 4]]]]]\n",
      "number of dimensions : 5\n"
     ]
    }
   ],
   "source": [
    "#create dimensions using numpy\n",
    "import numpy as np\n",
    "\n",
    "arr = np.array([1, 2, 3, 4], ndmin=5)\n",
    "\n",
    "print(arr)\n",
    "print('number of dimensions :', arr.ndim)"
   ]
  },
  {
   "cell_type": "code",
   "execution_count": 13,
   "id": "0991d920-d18c-4bc5-adb0-3177ace2c8a7",
   "metadata": {},
   "outputs": [
    {
     "name": "stdout",
     "output_type": "stream",
     "text": [
      "[[[[4 5]]]]\n"
     ]
    }
   ],
   "source": [
    "#expirement\n",
    "import numpy as np\n",
    "arr = (45)\n",
    "FourD = np.array(arr, ndmin = 4)\n",
    "print(FourD)"
   ]
  },
  {
   "cell_type": "code",
   "execution_count": 3,
   "id": "8d435d28-05d4-4f96-85de-14f535a27bac",
   "metadata": {},
   "outputs": [
    {
     "name": "stdout",
     "output_type": "stream",
     "text": [
      "2\n"
     ]
    }
   ],
   "source": [
    "#dimensions in numpy\n",
    "import numpy as np\n",
    "arr = np.array([[1, 2, 3,], [3, 4, 5]])\n",
    "print(arr.ndim)\n",
    "\n"
   ]
  },
  {
   "cell_type": "code",
   "execution_count": 6,
   "id": "bfa90783-f424-47a6-9a3d-fc07e9d88cee",
   "metadata": {},
   "outputs": [
    {
     "name": "stdout",
     "output_type": "stream",
     "text": [
      "[6 7 8]\n",
      "[[11 21 31]\n",
      " [12 22 32]\n",
      " [13 23 33]]\n"
     ]
    }
   ],
   "source": [
    "#broadcasting in numpy\n",
    "#Broadcasting ka matlab hai ke jab aap NumPy mein do arrays ke beech operation\n",
    "#karte hain, to agar unki shapes (size) alag ho, to NumPy un arrays ko aapas \n",
    "#mein match kar leta hai. Is tarah se, aapko arrays ko manually resize nahi karna padta.\n",
    "#for example\n",
    "import numpy as np\n",
    "arr = np.array([1,2,3])\n",
    "result = arr+5\n",
    "print(result)\n",
    "\n",
    "#or \n",
    "arr2 = np.array([[1],[2],[3]])\n",
    "arr3 = np.array([10,20,30])\n",
    "resultt = arr2 + arr3\n",
    "print(resultt)"
   ]
  },
  {
   "cell_type": "code",
   "execution_count": 7,
   "id": "b6df2423-34e0-42b8-9b5f-8275ce68efff",
   "metadata": {},
   "outputs": [
    {
     "name": "stdout",
     "output_type": "stream",
     "text": [
      "(3, 3)\n",
      "(2, 2)\n"
     ]
    }
   ],
   "source": [
    "#shape in numpy\n",
    "#shape\n",
    "import numpy as np\n",
    "arr = np.array([[1, 2, 3], [4, 5, 6], [7, 8, 9]])\n",
    "print(arr.shape)\n",
    "\n",
    "#or \n",
    "#data means cols,, and [] means rows\n",
    "arr1 = np.array([[42,42],[42,42]])\n",
    "print(arr1.shape)"
   ]
  },
  {
   "cell_type": "code",
   "execution_count": 8,
   "id": "aafcdb23-1fe0-4a12-add2-38acbb823c8a",
   "metadata": {},
   "outputs": [
    {
     "name": "stdout",
     "output_type": "stream",
     "text": [
      "3\n"
     ]
    }
   ],
   "source": [
    "#index calling \n",
    "arr = np.array([1,2,3,4])\n",
    "print(arr[-2])\n"
   ]
  },
  {
   "cell_type": "code",
   "execution_count": null,
   "id": "84d2bab2-54cf-4ea4-bcb8-392506368a10",
   "metadata": {},
   "outputs": [],
   "source": []
  }
 ],
 "metadata": {
  "kernelspec": {
   "display_name": "Python 3 (ipykernel)",
   "language": "python",
   "name": "python3"
  },
  "language_info": {
   "codemirror_mode": {
    "name": "ipython",
    "version": 3
   },
   "file_extension": ".py",
   "mimetype": "text/x-python",
   "name": "python",
   "nbconvert_exporter": "python",
   "pygments_lexer": "ipython3",
   "version": "3.13.0"
  }
 },
 "nbformat": 4,
 "nbformat_minor": 5
}
