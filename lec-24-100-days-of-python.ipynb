{
 "cells": [
  {
   "cell_type": "code",
   "execution_count": 4,
   "id": "2d748e73-53fa-4b0b-bb5b-eec8cb5fa4ef",
   "metadata": {},
   "outputs": [
    {
     "name": "stdout",
     "output_type": "stream",
     "text": [
      "('hello', 2, 3)\n",
      "<class 'tuple'>\n"
     ]
    }
   ],
   "source": [
    "#tuples\n",
    "#tuples are immutable, thats mean you cant change it/modify it \n",
    "my_type = (\"hello\", 2,3)\n",
    "print(my_type)\n",
    "# my_type.append(1)\n",
    "# print(my_type)\n",
    "print(type (my_type))"
   ]
  },
  {
   "cell_type": "code",
   "execution_count": 8,
   "id": "a894815f-e946-4482-8176-0a5b32cc837e",
   "metadata": {},
   "outputs": [
    {
     "name": "stdout",
     "output_type": "stream",
     "text": [
      "the number is = 1\n",
      "the number is = 2\n",
      "the number is = 3\n",
      "the number is = 4\n",
      "the number is = 5\n"
     ]
    }
   ],
   "source": [
    "my_tuple = (1,2,3,4,5)\n",
    "for i in (my_tuple):\n",
    "    print(\"the number is =\",i)"
   ]
  },
  {
   "cell_type": "code",
   "execution_count": null,
   "id": "f2b5b9fb-dfd8-4a64-9fef-26d7b0cbaa87",
   "metadata": {},
   "outputs": [],
   "source": []
  }
 ],
 "metadata": {
  "kernelspec": {
   "display_name": "Python 3 (ipykernel)",
   "language": "python",
   "name": "python3"
  },
  "language_info": {
   "codemirror_mode": {
    "name": "ipython",
    "version": 3
   },
   "file_extension": ".py",
   "mimetype": "text/x-python",
   "name": "python",
   "nbconvert_exporter": "python",
   "pygments_lexer": "ipython3",
   "version": "3.13.0"
  }
 },
 "nbformat": 4,
 "nbformat_minor": 5
}
