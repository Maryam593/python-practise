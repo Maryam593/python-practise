{
 "cells": [
  {
   "cell_type": "code",
   "execution_count": 6,
   "id": "eae1cdda-5166-42db-8dee-154958455878",
   "metadata": {},
   "outputs": [
    {
     "name": "stdout",
     "output_type": "stream",
     "text": [
      "6\n"
     ]
    }
   ],
   "source": [
    "#About Recursion\n",
    "#repeatitve iteration until meet the base case \n",
    "\n",
    "def factorial (a):\n",
    "   if a == 0 or a == 1: return a\n",
    "   else: return a * factorial (a-1)\n",
    "\n",
    "print(factorial(3))\n",
    "    "
   ]
  },
  {
   "cell_type": "code",
   "execution_count": 13,
   "id": "4847591c-47e2-46a0-a42e-106553e9049e",
   "metadata": {},
   "outputs": [
    {
     "name": "stdout",
     "output_type": "stream",
     "text": [
      "55\n"
     ]
    }
   ],
   "source": [
    "#fibonacci series\n",
    "def fibonacci (a):\n",
    "    if a == 0 or a == 1: return a\n",
    "    else: return fibonacci (a-1) + fibonacci (a-2)\n",
    "\n",
    "print(fibonacci(10))\n"
   ]
  },
  {
   "cell_type": "code",
   "execution_count": 25,
   "id": "5eaea8f7-3747-4dea-840d-607e1af9833f",
   "metadata": {},
   "outputs": [
    {
     "name": "stdin",
     "output_type": "stream",
     "text": [
      "enter choice 1. simple calculator, 2. factorial calculator, 3. fibnocci calculator:  1\n",
      "enter first number:  4\n",
      "enter second number:  4\n",
      "enter operator choice: +, -, *, /:  *\n"
     ]
    },
    {
     "name": "stdout",
     "output_type": "stream",
     "text": [
      "Result: 16\n"
     ]
    },
    {
     "ename": "SystemExit",
     "evalue": "",
     "output_type": "error",
     "traceback": [
      "An exception has occurred, use %tb to see the full traceback.\n",
      "\u001b[1;31mSystemExit\u001b[0m\n"
     ]
    }
   ],
   "source": [
    "#mixed calculator - simple calculator, fibnocci calculator, factorial calculator\n",
    "# 1. Functions ko hamesha pehle define karein (global level par)\n",
    "def factorial (fr):\n",
    "    if fr == 0 or fr == 1: \n",
    "        return 1\n",
    "    else: \n",
    "        return fr * factorial(fr-1)\n",
    "\n",
    "def fibnocci (fi):\n",
    "    if fi == 0: \n",
    "        return 0\n",
    "    elif fi == 1:\n",
    "        return 1\n",
    "    else: \n",
    "        return fibnocci(fi - 1) + fibnocci(fi - 2)\n",
    "\n",
    "# 2. Main Program Logic\n",
    "choice = int(input(\"enter choice 1. simple calculator, 2. factorial calculator, 3. fibnocci calculator: \"))\n",
    "\n",
    "if choice == 1:\n",
    "    a = int(input(\"enter first number: \"))\n",
    "    b = int(input(\"enter second number: \"))\n",
    "    ops =input(\"enter operator choice: +, -, *, /: \")\n",
    "    \n",
    "    if ops == '+':\n",
    "        print(f\"Result: {a + b}\")\n",
    "    elif ops == '-':\n",
    "        print(f\"Result: {a - b}\")\n",
    "    elif ops == '*':\n",
    "        print(f\"Result: {a * b}\")\n",
    "    elif ops == '/':\n",
    "        print(f\"Result: {a / b}\")\n",
    "    else:\n",
    "        print(\"Invalid operator.\")\n",
    "    \n",
    "    sys.exit() # Simple calculation ke baad program ko rok dein\n",
    "\n",
    "elif choice == 2:\n",
    "    for_factorial = int(input(\"enter the number for factorial: \"))\n",
    "    print(f\"Factorial of {for_factorial} is: {factorial(for_factorial)}\")\n",
    "\n",
    "elif choice == 3:\n",
    "    for_fibnocci = int(input(\"enter the position for fibonacci: \"))\n",
    "    print(f\"Fibonacci number at position {for_fibnocci} is: {fibnocci(for_fibnocci)}\")\n",
    "\n",
    "else: \n",
    "    print(\"Wrong choice.\")"
   ]
  },
  {
   "cell_type": "code",
   "execution_count": null,
   "id": "3ae83c51-91ad-4a71-b46a-d279866305d3",
   "metadata": {},
   "outputs": [],
   "source": []
  }
 ],
 "metadata": {
  "kernelspec": {
   "display_name": "Python 3 (ipykernel)",
   "language": "python",
   "name": "python3"
  },
  "language_info": {
   "codemirror_mode": {
    "name": "ipython",
    "version": 3
   },
   "file_extension": ".py",
   "mimetype": "text/x-python",
   "name": "python",
   "nbconvert_exporter": "python",
   "pygments_lexer": "ipython3",
   "version": "3.13.0"
  }
 },
 "nbformat": 4,
 "nbformat_minor": 5
}
