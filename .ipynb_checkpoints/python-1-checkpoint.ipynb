{
 "cells": [
  {
   "cell_type": "code",
   "execution_count": 4,
   "id": "22292455-6b28-4edc-8480-11490b03bb75",
   "metadata": {},
   "outputs": [
    {
     "name": "stdin",
     "output_type": "stream",
     "text": [
      "Enter your passkey:  rauf\n"
     ]
    },
    {
     "name": "stdout",
     "output_type": "stream",
     "text": [
      "Encoded: Evr45Ddfg567dfdyer34fuar\n",
      "Decoded: rauf\n"
     ]
    }
   ],
   "source": [
    "# Encoding\n",
    "a = input(\"Enter your passkey: \")\n",
    "result = \"Evr45Ddfg567dfdyer34\" + a[::-1]\n",
    "print(\"Encoded:\", result)\n",
    "\n",
    "# Decoding\n",
    "slice = result[::-1]\n",
    "original_passkey = slice[0:len(a)]  # Correct way to extract original input\n",
    "print(\"Decoded:\", original_passkey)\n"
   ]
  },
  {
   "cell_type": "code",
   "execution_count": 5,
   "id": "27cb9e79-58ac-41fe-b68d-00bac4289e76",
   "metadata": {},
   "outputs": [
    {
     "name": "stdin",
     "output_type": "stream",
     "text": [
      "Enter your name abdul\n",
      "Enter your last name rauf\n"
     ]
    },
    {
     "name": "stdout",
     "output_type": "stream",
     "text": [
      "Mirror mirror ! tell me my decode name : ludba fuar\n"
     ]
    }
   ],
   "source": [
    "#mirror effect using slicing\n",
    "a = input(\"Enter your name\")\n",
    "b = input(\"Enter your last name\")\n",
    "c = a[::-1] + \" \" + b[::-1]\n",
    "print(\"Mirror mirror ! tell me my decode name : \" + c)"
   ]
  },
  {
   "cell_type": "code",
   "execution_count": 6,
   "id": "5811fdef-d71b-4ec5-9482-ebed71622e59",
   "metadata": {},
   "outputs": [
    {
     "name": "stdout",
     "output_type": "stream",
     "text": [
      "Hello, Avatar Bot is here\n"
     ]
    },
    {
     "name": "stdin",
     "output_type": "stream",
     "text": [
      "Enter your first name:  abdul\n",
      "Enter your last name:  rauf\n"
     ]
    },
    {
     "name": "stdout",
     "output_type": "stream",
     "text": [
      "Your avatar is = AR 💡\n"
     ]
    }
   ],
   "source": [
    "import random\n",
    "\n",
    "print(\"Hello, Avatar Bot is here\")\n",
    "a = input(\"Enter your first name: \")\n",
    "b = input(\"Enter your last name: \")\n",
    "\n",
    "# List of random emojis\n",
    "emojis = [\"😀\", \"🔥\", \"🚀\", \"🌟\", \"💡\", \"🎉\", \"❤️\", \"🐍\", \"💻\", \"🤖\"]\n",
    "\n",
    "# Generate avatar with random emoji\n",
    "avatar = (a[0] + b[0]).upper() + \" \" + random.choice(emojis)  \n",
    "\n",
    "print(f\"Your avatar is = {avatar}\")\n"
   ]
  },
  {
   "cell_type": "code",
   "execution_count": 5,
   "id": "97941dcb-d7bf-419e-8f99-ceeb80416b3a",
   "metadata": {},
   "outputs": [
    {
     "name": "stdin",
     "output_type": "stream",
     "text": [
      "Enter first number:  4\n",
      "Enter second number:  3\n",
      "Enter choice (D, M, A, S, E, Mod):  m\n"
     ]
    },
    {
     "name": "stdout",
     "output_type": "stream",
     "text": [
      "The result is: 12\n"
     ]
    }
   ],
   "source": [
    "#calculator\n",
    "a = int(input(\"Enter first number: \"))\n",
    "b = int(input(\"Enter second number: \"))\n",
    "choice = input(\"Enter choice (D, M, A, S, E, Mod): \").strip().lower()  # Convert to lowercase\n",
    "\n",
    "calc = {\n",
    "    'd': a / b if b != 0 else \"Error (Division by zero)\", \n",
    "    'm': a * b,\n",
    "    'a': a + b,\n",
    "    's': a - b,\n",
    "    'e': a ** b,\n",
    "    'mod': a % b if b != 0 else \"Error (Modulo by zero)\"\n",
    "}\n",
    "\n",
    "if choice in calc:\n",
    "    print(f\"The result is: {calc[choice]}\")\n",
    "else:\n",
    "    print(\"Invalid choice\")\n"
   ]
  },
  {
   "cell_type": "code",
   "execution_count": 5,
   "id": "428fd64f-2bde-4ef9-ba7f-54704393b207",
   "metadata": {},
   "outputs": [
    {
     "name": "stdout",
     "output_type": "stream",
     "text": [
      "MARYAM\n",
      "maryam\n",
      "Hello World\n",
      "Hello world\n",
      "Hello\n"
     ]
    }
   ],
   "source": [
    "#string methods in python\n",
    "#strings are immutable --> means cant modify after initialization\n",
    "# 1** string case converstion methods\n",
    "#1 . upper method\n",
    "a = 'Maryam'\n",
    "print(a.upper())\n",
    "#2 . lower\n",
    "a = 'MARYAM'\n",
    "print(a.lower())\n",
    "#3. title\n",
    "a = 'hello world'\n",
    "print(a.title())\n",
    "#4. capitalize\n",
    "a = 'hello world'\n",
    "print(a.capitalize())\n",
    "a= 'hELLO'\n",
    "print(a.swapcase())"
   ]
  },
  {
   "cell_type": "code",
   "execution_count": 14,
   "id": "6bcb4c92-0edc-4e94-adfa-f9e93fbdc2af",
   "metadata": {},
   "outputs": [
    {
     "name": "stdout",
     "output_type": "stream",
     "text": [
      "False\n",
      "False\n",
      "False\n",
      "False\n",
      "False\n",
      "False\n"
     ]
    }
   ],
   "source": [
    "# 2** String checking methods\n",
    "#1 checking if alphabet\n",
    "password = '12345'\n",
    "print(password.isalpha())\n",
    "#2 checking if digit\n",
    "name = 'Maryam'\n",
    "print(name.isdigit())\n",
    "#3 check if is alphabets or numbers\n",
    "email = 'abc01@gmail.com'\n",
    "print(email.isalnum())\n",
    "#4 empty string hy ky nhi \n",
    "lastName = 'Saba'\n",
    "print(lastName.isspace())\n",
    "#5 starts with specific substring or not\n",
    "nationality = 'Pakistan'\n",
    "print(nationality.startswith('in'))\n",
    "#ends with specific substring or not\n",
    "state = 'punjab'\n",
    "# print(state.endswith('ab'))\n",
    "print(state.endswith('dh'))"
   ]
  },
  {
   "cell_type": "code",
   "execution_count": 21,
   "id": "6de66273-12d3-4653-aaa1-5ec9d1c15cc0",
   "metadata": {},
   "outputs": [
    {
     "name": "stdout",
     "output_type": "stream",
     "text": [
      "4\n",
      "4\n",
      "2\n",
      "Maryam Saba\n"
     ]
    }
   ],
   "source": [
    "#3 ** searching and replacing Methods\n",
    "#1 . Find\n",
    "a = 'abcdef'\n",
    "print(a.find('e'))\n",
    "#2. last occurance ka index return krna \n",
    "a = 'Maryam'\n",
    "print(a.rfind('a'))\n",
    "#3 . count total occurrence\n",
    "a = 'Saba'\n",
    "print(a.count('a'))\n",
    "#4 . replace   ----> syntax string.replace(old,new)\n",
    "a = 'Maryam Khan'\n",
    "print(a.replace('Khan', 'Saba'))"
   ]
  },
  {
   "cell_type": "code",
   "execution_count": null,
   "id": "73e4575d-31e8-493b-8d0f-3df4b0937afd",
   "metadata": {},
   "outputs": [],
   "source": []
  }
 ],
 "metadata": {
  "kernelspec": {
   "display_name": "Python 3 (ipykernel)",
   "language": "python",
   "name": "python3"
  },
  "language_info": {
   "codemirror_mode": {
    "name": "ipython",
    "version": 3
   },
   "file_extension": ".py",
   "mimetype": "text/x-python",
   "name": "python",
   "nbconvert_exporter": "python",
   "pygments_lexer": "ipython3",
   "version": "3.13.0"
  }
 },
 "nbformat": 4,
 "nbformat_minor": 5
}
