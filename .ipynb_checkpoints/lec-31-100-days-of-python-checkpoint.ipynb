{
 "cells": [
  {
   "cell_type": "code",
   "execution_count": 7,
   "id": "4449a399-0cc1-4995-a341-89e45b051d81",
   "metadata": {},
   "outputs": [
    {
     "name": "stdout",
     "output_type": "stream",
     "text": [
      "the set is = {1, 2, 3, 4}\n",
      "{1, 3, 4, 5}\n",
      "{1, 2.4, 'harry'}\n"
     ]
    }
   ],
   "source": [
    "#sets\n",
    "#set is a collection of well defined objects\n",
    "\n",
    "s = {1,1,2,3,4}\n",
    "print(\"the set is =\",s)\n",
    "#its unordered collection\n",
    "a = {1,1,3,5,4}\n",
    "print(a)\n",
    "#The duplicate 1 is removed.\n",
    "\n",
    "#Output: the set is = {1, 2, 3, 4} (The 1 is only shown once.). so thats how set is unordered\n",
    "#sets can carry different data types \n",
    "set_carry = {\"harry\", 1, 2.4}\n",
    "print(set_carry)\n"
   ]
  },
  {
   "cell_type": "code",
   "execution_count": 14,
   "id": "e9f1f21b-d7e7-4640-969d-b682d2e24df9",
   "metadata": {},
   "outputs": [
    {
     "name": "stdout",
     "output_type": "stream",
     "text": [
      "odd\n",
      "even\n",
      "odd\n",
      "even\n"
     ]
    }
   ],
   "source": [
    "#accessing set items \n",
    "s = {1,2,3,4}\n",
    "for i in s:\n",
    "    if i%2 == 0: print(\"even\")\n",
    "    else: print (\"odd\")"
   ]
  },
  {
   "cell_type": "code",
   "execution_count": 19,
   "id": "6a80191c-f882-4b86-ab2c-9d9c78d57fba",
   "metadata": {},
   "outputs": [
    {
     "name": "stdout",
     "output_type": "stream",
     "text": [
      "<class 'dict'>\n",
      "<class 'set'>\n"
     ]
    }
   ],
   "source": [
    "#type of empty set\n",
    "s = {}\n",
    "print(type(s))\n",
    "#to make it set\n",
    "s = set()\n",
    "print(type(s))"
   ]
  },
  {
   "cell_type": "code",
   "execution_count": null,
   "id": "a85b10f1-a65a-413d-9e4a-604816465cf8",
   "metadata": {},
   "outputs": [],
   "source": []
  }
 ],
 "metadata": {
  "kernelspec": {
   "display_name": "Python 3 (ipykernel)",
   "language": "python",
   "name": "python3"
  },
  "language_info": {
   "codemirror_mode": {
    "name": "ipython",
    "version": 3
   },
   "file_extension": ".py",
   "mimetype": "text/x-python",
   "name": "python",
   "nbconvert_exporter": "python",
   "pygments_lexer": "ipython3",
   "version": "3.13.0"
  }
 },
 "nbformat": 4,
 "nbformat_minor": 5
}
