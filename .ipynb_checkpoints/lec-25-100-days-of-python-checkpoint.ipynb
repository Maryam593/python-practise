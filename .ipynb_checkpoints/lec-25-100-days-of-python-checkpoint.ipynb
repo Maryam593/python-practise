{
 "cells": [
  {
   "cell_type": "code",
   "execution_count": 4,
   "id": "fc373d77-fbfe-47ca-aaa4-d4143e16464a",
   "metadata": {},
   "outputs": [
    {
     "name": "stdout",
     "output_type": "stream",
     "text": [
      "(1, 3, 5, 7, 9, 0, 2, 4, 6, 8)\n"
     ]
    }
   ],
   "source": [
    "#manipulation of tuple\n",
    "#concatination \n",
    "my_odd = (1,3,5,7,9)\n",
    "my_even = (0,2,4,6,8)\n",
    "my_whole = my_odd+my_even\n",
    "print(my_whole)"
   ]
  },
  {
   "cell_type": "code",
   "execution_count": 7,
   "id": "d4928a0a-d112-40c7-9f4a-9eb675e2518f",
   "metadata": {},
   "outputs": [
    {
     "name": "stdout",
     "output_type": "stream",
     "text": [
      "1\n"
     ]
    }
   ],
   "source": [
    "#count \n",
    "my_odd = (1,3,5,7,9)\n",
    "my_even = (0,2,4,6,8)\n",
    "my_whole = my_odd+my_even\n",
    "my_count  = my_whole.count(0)\n",
    "print(my_count)"
   ]
  },
  {
   "cell_type": "code",
   "execution_count": 9,
   "id": "7d43b9b9-7807-4443-999b-eee84e17d5f5",
   "metadata": {},
   "outputs": [
    {
     "name": "stdout",
     "output_type": "stream",
     "text": [
      "5\n"
     ]
    }
   ],
   "source": [
    "#len\n",
    "my_odd = (1,3,5,7,9)\n",
    "leng = len(my_odd)\n",
    "print(leng)"
   ]
  },
  {
   "cell_type": "code",
   "execution_count": null,
   "id": "82070616-902f-4804-b8cb-a47705f63c0c",
   "metadata": {},
   "outputs": [],
   "source": []
  }
 ],
 "metadata": {
  "kernelspec": {
   "display_name": "Python 3 (ipykernel)",
   "language": "python",
   "name": "python3"
  },
  "language_info": {
   "codemirror_mode": {
    "name": "ipython",
    "version": 3
   },
   "file_extension": ".py",
   "mimetype": "text/x-python",
   "name": "python",
   "nbconvert_exporter": "python",
   "pygments_lexer": "ipython3",
   "version": "3.13.0"
  }
 },
 "nbformat": 4,
 "nbformat_minor": 5
}
