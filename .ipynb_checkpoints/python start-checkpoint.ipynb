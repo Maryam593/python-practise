{
 "cells": [
  {
   "cell_type": "code",
   "execution_count": 8,
   "id": "dbb7c462-711e-4092-9a23-e1fcd3d4e420",
   "metadata": {},
   "outputs": [
    {
     "name": "stdout",
     "output_type": "stream",
     "text": [
      "120\n"
     ]
    }
   ],
   "source": [
    "#recursion\n",
    "#anything that repeats itself until reach its destination or base \n",
    "#for example \n",
    "def factorial (n):\n",
    "    if n == 1:\n",
    "        return n\n",
    "    else: return  n *factorial (n-1)\n",
    "\n",
    "print(factorial (5))"
   ]
  },
  {
   "cell_type": "code",
   "execution_count": 27,
   "id": "92181d63-ce96-49eb-986c-a48f51a5d1aa",
   "metadata": {},
   "outputs": [
    {
     "name": "stdout",
     "output_type": "stream",
     "text": [
      "*****\n",
      "****\n",
      "***\n",
      "**\n",
      "*\n"
     ]
    }
   ],
   "source": [
    "def asteric(n):\n",
    "    if n == 6:\n",
    "        return\n",
    "    asteric(n + 1)\n",
    "    print(n * \"*\")\n",
    "\n",
    "asteric(1)\n"
   ]
  },
  {
   "cell_type": "code",
   "execution_count": 26,
   "id": "84eb6ae0-94e3-4727-bfda-99666873a789",
   "metadata": {},
   "outputs": [
    {
     "name": "stdout",
     "output_type": "stream",
     "text": [
      "*\n",
      "**\n",
      "***\n",
      "****\n",
      "*****\n"
     ]
    }
   ],
   "source": [
    "def asteric (n):\n",
    "    if n == 0:\n",
    "        return \n",
    "    asteric (n-1)\n",
    "    print(n * \"*\")\n",
    "asteric (5)"
   ]
  },
  {
   "cell_type": "code",
   "execution_count": 31,
   "id": "24587cae-74d1-4c44-90de-b130d11dd554",
   "metadata": {},
   "outputs": [
    {
     "name": "stdout",
     "output_type": "stream",
     "text": [
      "0 1 1 2 3 "
     ]
    }
   ],
   "source": [
    "def fibonacci(n):\n",
    "    if n == 0:\n",
    "        return 0\n",
    "    elif n == 1:\n",
    "        return 1\n",
    "    else:\n",
    "        return fibonacci(n-1) + fibonacci(n-2)\n",
    "\n",
    "# Print first 5 numbers of Fibonacci series\n",
    "for i in range(5):\n",
    "    print(fibonacci(i), end=\" \")\n"
   ]
  },
  {
   "cell_type": "code",
   "execution_count": 34,
   "id": "c215565d-810f-48fc-8d86-5a8202f37d66",
   "metadata": {},
   "outputs": [
    {
     "name": "stdin",
     "output_type": "stream",
     "text": [
      "enter the range 100\n"
     ]
    },
    {
     "name": "stdout",
     "output_type": "stream",
     "text": [
      "{0, 2, 4, 6, 8, 10, 12, 14, 16, 18, 20, 22, 24, 26, 28, 30, 32, 34, 36, 38, 40, 42, 44, 46, 48, 50, 52, 54, 56, 58, 60, 62, 64, 66, 68, 70, 72, 74, 76, 78, 80, 82, 84, 86, 88, 90, 92, 94, 96, 98, 100}\n"
     ]
    }
   ],
   "source": [
    "#set  -- well define object with no repeatition. are immutable, set doesnt maintain order , so you cant use index \n",
    "n = int(input(\"enter the range\"))\n",
    "set_of_even_numbers = set()\n",
    "for i in range (n+1):\n",
    "    if i%2 == 0:\n",
    "        set_of_even_numbers.add(i)\n",
    "print(set_of_even_numbers)"
   ]
  },
  {
   "cell_type": "code",
   "execution_count": 26,
   "id": "f6a6804b-34d7-42ca-bed6-adbc85919ac4",
   "metadata": {},
   "outputs": [
    {
     "name": "stdout",
     "output_type": "stream",
     "text": [
      "The union is  {1, 2, 3, 4, 5, 6, 7}\n",
      "The union of repeatitive set elements is =  {1, 2, 3, 4, 5}\n",
      "The result of intersection is =  {1, 2, 3}\n",
      "the result of symmetric difference is =  {4, 5}\n",
      "the result of difference is =  {4, 5}\n",
      "the result of disjoint is =  False\n",
      "the result of disjoint is =  True\n",
      "the result of superset is =  False\n",
      "the result of superset is =  True\n",
      "the result of subset is =  True\n",
      "adding elements to the set None\n",
      "Updated set: {1, 2, 3, 4, 5}\n",
      "updated set {1, 2, 3, 4, 5, 6}\n",
      "updated set {1, 2}\n",
      "using pop ==  {2, 3}\n",
      "using pop ==  {2, 3, 4, 5}\n"
     ]
    }
   ],
   "source": [
    "#methods of set\n",
    "\n",
    "#1. union --> joining of two sets\n",
    "\n",
    "s1 = {1,2,3,4}\n",
    "s2 = {5,6,7}\n",
    "s3 = s1.union(s2)\n",
    "print(\"The union is \" , s3)\n",
    "\n",
    "#if set carries the same entities\n",
    "s1 = {1,1,2,2,3,3}\n",
    "s2 = {1,2,3,4,5}\n",
    "print(\"The union of repeatitive set elements is = \",s1.union(s2))\n",
    "\n",
    "#2. intersection \n",
    "s1 = {1,1,2,2,3,3}\n",
    "s2 = {1,2,3,4,5}\n",
    "print(\"The result of intersection is = \",s1.intersection(s2))\n",
    "\n",
    "#3. symmetric difference --> such values that are not common in a set\n",
    "s1 = {1,1,2,2,3,3}\n",
    "s2 = {1,2,3,4,5}\n",
    "print(\"the result of symmetric difference is = \", s1.symmetric_difference (s2))\n",
    "\n",
    "#4. difference --> how 1 set is different from other, like if i am carrying out s1 difference, then difference op will check how s1 is different from s2, how s2 is not relate to s1 in terms of elements \n",
    "s1 = {1,1,2,2,3,3}\n",
    "s2 = {1,2,3,4,5}\n",
    "print(\"the result of difference is = \", s2.difference(s1))\n",
    "\n",
    "#5. isdisjoint --> is a method that checks if the items of given set are present in another set. this method return false if items are present else it will return true \n",
    "s1 = {1,1,2,2,3,3}\n",
    "s2 = {1,2,3,4,5}\n",
    "print(\"the result of disjoint is = \", s1.isdisjoint(s2))\n",
    "\n",
    "#OR\n",
    "s1  = {1,2,3,4,5}\n",
    "s2 = {6,7,8,9}\n",
    "print(\"the result of disjoint is = \", s1.isdisjoint(s2))\n",
    "\n",
    "#6. issuperset --> this method checks all items of a particular set present in the original set. it returns true if all items are present, else return false\n",
    "s1  = {1,2,3,4,5}\n",
    "s2 = {5,6,7,8,9}\n",
    "print(\"the result of superset is = \", s1.issuperset(s2))\n",
    "\n",
    "#OR\n",
    "s1  = {1,2,3,4,5}\n",
    "s2 = {1,2,3,4,5}\n",
    "print(\"the result of superset is = \", s1.issuperset(s2))\n",
    "\n",
    "#7. issubset --> this method is a bit lower than superset, if only all items present it will return true else return false.\n",
    "s1  = {1,2,3,4,5}\n",
    "s2 = {1,2,3,4,5,6,7,8,9}\n",
    "print(\"the result of subset is = \", s1.issubset(s2))\n",
    "\n",
    "#8. add --> add single item to the set \n",
    "s1 = {1,2,3,4}\n",
    "print(\"adding elements to the set\", s1.add(5))\n",
    "#this method is not for running on runtime, instead try this method \n",
    "s1 = {1, 2, 3, 4}\n",
    "s1.add(5)\n",
    "print(\"Updated set:\", s1)\n",
    "\n",
    "#9. update \n",
    "s1 = {1,2,3}\n",
    "s2 = {4,5,6}\n",
    "s1.update(s2)\n",
    "print(\"updated set\", s1)\n",
    "\n",
    "#10. remove \n",
    "s1 = {1,2,3}\n",
    "s1.remove(3)\n",
    "print(\"updated set\", s1)\n",
    "\n",
    "#11. pop --> removes first item/element of the set \n",
    "s1 = {1,2,3}\n",
    "s1.pop()\n",
    "print(\"using pop == \", s1)\n",
    "\n",
    "#OR\n",
    "s1 = {1,2,3,4,5}\n",
    "s1.pop()\n",
    "print(\"using pop == \", s1)"
   ]
  },
  {
   "cell_type": "code",
   "execution_count": 35,
   "id": "267625bf-cd74-44f4-a0c9-89f958d9037f",
   "metadata": {},
   "outputs": [
    {
     "name": "stdin",
     "output_type": "stream",
     "text": [
      "enter the range 50\n"
     ]
    },
    {
     "name": "stdout",
     "output_type": "stream",
     "text": [
      "even numbers =  {'set_of_all_even_numbers': [0, 2, 4, 6, 8, 10, 12, 14, 16, 18, 20, 22, 24, 26, 28, 30, 32, 34, 36, 38, 40, 42, 44, 46, 48]} and odd numbers =  {'set_of_all_odd_numbers': [1, 3, 5, 7, 9, 11, 13, 15, 17, 19, 21, 23, 25, 27, 29, 31, 33, 35, 37, 39, 41, 43, 45, 47, 49]}\n"
     ]
    },
    {
     "name": "stdin",
     "output_type": "stream",
     "text": [
      "enter the number you want to print the table of it 4\n"
     ]
    }
   ],
   "source": [
    "#dictionary \n",
    "range_of_numbers = int(input(\"enter the range\"))\n",
    "dict_even = {\"set_of_all_even_numbers\" : []}\n",
    "dict_odd = {\"set_of_all_odd_numbers\": []}\n",
    "for i in range(range_of_numbers):\n",
    "    if i%2 == 0:\n",
    "        dict_even[\"set_of_all_even_numbers\"].append(i)\n",
    "    else:\n",
    "        dict_odd[\"set_of_all_odd_numbers\"].append(i)\n",
    "\n",
    "print(\"even numbers = \", dict_even , \"and odd numbers = \", dict_odd)\n",
    "\n"
   ]
  },
  {
   "cell_type": "code",
   "execution_count": null,
   "id": "91fb1141-accb-4b65-b574-ce3092afb8c4",
   "metadata": {},
   "outputs": [],
   "source": [
    "#dictionry to present table "
   ]
  },
  {
   "cell_type": "code",
   "execution_count": null,
   "id": "53d5cb1d-b361-42e0-8f7e-2fb77ace9e59",
   "metadata": {},
   "outputs": [],
   "source": []
  }
 ],
 "metadata": {
  "kernelspec": {
   "display_name": "Python 3 (ipykernel)",
   "language": "python",
   "name": "python3"
  },
  "language_info": {
   "codemirror_mode": {
    "name": "ipython",
    "version": 3
   },
   "file_extension": ".py",
   "mimetype": "text/x-python",
   "name": "python",
   "nbconvert_exporter": "python",
   "pygments_lexer": "ipython3",
   "version": "3.13.0"
  }
 },
 "nbformat": 4,
 "nbformat_minor": 5
}
