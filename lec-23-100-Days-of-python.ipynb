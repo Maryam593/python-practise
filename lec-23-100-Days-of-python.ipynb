{
 "cells": [
  {
   "cell_type": "code",
   "execution_count": 2,
   "id": "b634bdec-96c1-424d-a55a-2e54ebbd5a1a",
   "metadata": {},
   "outputs": [
    {
     "name": "stdout",
     "output_type": "stream",
     "text": [
      "[1, 2, 5.5, -3]\n"
     ]
    }
   ],
   "source": [
    "#Q.1 take non negative list of numbers and strings but return only numbers\n",
    "def get_numbers_only(a):\n",
    "  return [item for item in a if isinstance(item, (int, float))]\n",
    "\n",
    "my_list = [1, 2, \"hi\", \"bye\", 5.5, -3, \"hello\"]\n",
    "numbers_list = get_numbers_only(my_list)\n",
    "print(numbers_list)\n"
   ]
  },
  {
   "cell_type": "code",
   "execution_count": 3,
   "id": "a3cbd285-d624-4058-aeb6-869ef60fef5e",
   "metadata": {},
   "outputs": [
    {
     "name": "stdout",
     "output_type": "stream",
     "text": [
      "[1, 2, 3, 4, 5]\n"
     ]
    }
   ],
   "source": [
    "#add\n",
    "my_list = [1,2,3,4]\n",
    "my_list.append(5)\n",
    "print(my_list)"
   ]
  },
  {
   "cell_type": "code",
   "execution_count": 4,
   "id": "4b0fe849-1592-4177-8a7a-977a8950fcf7",
   "metadata": {},
   "outputs": [
    {
     "name": "stdout",
     "output_type": "stream",
     "text": [
      "[1, 2, 4, 6, 7]\n"
     ]
    }
   ],
   "source": [
    "#sort \n",
    "mylist = [1,7,6,4,2]\n",
    "mylist.sort()\n",
    "print(mylist)"
   ]
  },
  {
   "cell_type": "code",
   "execution_count": 5,
   "id": "7a676a14-25a5-4a3e-8f30-bae013834a2a",
   "metadata": {},
   "outputs": [
    {
     "name": "stdout",
     "output_type": "stream",
     "text": [
      "[7, 6, 4, 2, 1]\n"
     ]
    }
   ],
   "source": [
    "#sorting in descending order \n",
    "mylist = [1,7,6,4,2]\n",
    "mylist.sort(reverse = True)\n",
    "print(mylist)"
   ]
  },
  {
   "cell_type": "code",
   "execution_count": 7,
   "id": "8a722a09-badc-4d4f-94b5-33c27ba4d6ab",
   "metadata": {},
   "outputs": [
    {
     "name": "stdout",
     "output_type": "stream",
     "text": [
      "1\n"
     ]
    }
   ],
   "source": [
    "#index\n",
    "mylist = [1,7,6,4,2]\n",
    "print(mylist.index(7))\n"
   ]
  },
  {
   "cell_type": "code",
   "execution_count": 8,
   "id": "0d95debb-b821-44b6-9373-5e09b8263805",
   "metadata": {},
   "outputs": [
    {
     "name": "stdout",
     "output_type": "stream",
     "text": [
      "3\n"
     ]
    }
   ],
   "source": [
    "#count\n",
    "mylist = [1,7,6,4,2,2,2]\n",
    "print(mylist.count(2))"
   ]
  },
  {
   "cell_type": "code",
   "execution_count": 10,
   "id": "b86d224a-b6bd-4714-84da-2b743a3aedec",
   "metadata": {},
   "outputs": [
    {
     "name": "stdout",
     "output_type": "stream",
     "text": [
      "my list [1, 7, 6, 4, 2]\n",
      "my list shallow copy [1, 7, 6, 4, 2, 5]\n"
     ]
    }
   ],
   "source": [
    "#shallow copy\n",
    "mylist = [1,7,6,4,2]\n",
    "my_list_copy = mylist.copy()\n",
    "my_list_copy.append(5)\n",
    "print(\"my list\", mylist)\n",
    "print(\"my list shallow copy\", my_list_copy)"
   ]
  },
  {
   "cell_type": "code",
   "execution_count": 15,
   "id": "986b30c6-122e-4f8f-ba05-6ebc8f4679b2",
   "metadata": {},
   "outputs": [
    {
     "name": "stdout",
     "output_type": "stream",
     "text": [
      "[1, 3, 5, 7, 6, 9]\n",
      "[1, 3, 5, 7, 9]\n"
     ]
    }
   ],
   "source": [
    "#insert\n",
    "mylist = [1,3,5,6,9]\n",
    "mylist.insert(3, 7)\n",
    "print(mylist)\n",
    "#delete\n",
    "del mylist[4]\n",
    "print(mylist)"
   ]
  },
  {
   "cell_type": "code",
   "execution_count": 17,
   "id": "a1795f6c-faa8-491b-b459-6483b23c79c1",
   "metadata": {},
   "outputs": [
    {
     "ename": "AttributeError",
     "evalue": "'NoneType' object has no attribute 'sort'",
     "output_type": "error",
     "traceback": [
      "\u001b[1;31m---------------------------------------------------------------------------\u001b[0m",
      "\u001b[1;31mAttributeError\u001b[0m                            Traceback (most recent call last)",
      "Cell \u001b[1;32mIn[17], line 5\u001b[0m\n\u001b[0;32m      3\u001b[0m even \u001b[38;5;241m=\u001b[39m [\u001b[38;5;241m0\u001b[39m,\u001b[38;5;241m2\u001b[39m,\u001b[38;5;241m4\u001b[39m,\u001b[38;5;241m6\u001b[39m,\u001b[38;5;241m8\u001b[39m,\u001b[38;5;241m10\u001b[39m]\n\u001b[0;32m      4\u001b[0m number1 \u001b[38;5;241m=\u001b[39m even\u001b[38;5;241m.\u001b[39mextend(odd)\n\u001b[1;32m----> 5\u001b[0m listt \u001b[38;5;241m=\u001b[39m \u001b[43mnumber1\u001b[49m\u001b[38;5;241;43m.\u001b[39;49m\u001b[43msort\u001b[49m()\n\u001b[0;32m      6\u001b[0m \u001b[38;5;28mprint\u001b[39m(listt)\n",
      "\u001b[1;31mAttributeError\u001b[0m: 'NoneType' object has no attribute 'sort'"
     ]
    }
   ],
   "source": [
    "#extend\n",
    "odd = [1,3,5,7,9]\n",
    "even = [0,2,4,6,8,10]\n",
    "number1 = even.extend(odd)\n",
    "listt = number1.sort()\n",
    "print(listt)"
   ]
  },
  {
   "cell_type": "code",
   "execution_count": null,
   "id": "6e62217a-59b0-49d2-b0f8-172b3484a4f0",
   "metadata": {},
   "outputs": [],
   "source": []
  }
 ],
 "metadata": {
  "kernelspec": {
   "display_name": "Python 3 (ipykernel)",
   "language": "python",
   "name": "python3"
  },
  "language_info": {
   "codemirror_mode": {
    "name": "ipython",
    "version": 3
   },
   "file_extension": ".py",
   "mimetype": "text/x-python",
   "name": "python",
   "nbconvert_exporter": "python",
   "pygments_lexer": "ipython3",
   "version": "3.13.0"
  }
 },
 "nbformat": 4,
 "nbformat_minor": 5
}
