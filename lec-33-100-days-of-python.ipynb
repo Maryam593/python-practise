{
 "cells": [
  {
   "cell_type": "code",
   "execution_count": 14,
   "id": "eafbb161-7b4a-43c8-901b-f18f322887b9",
   "metadata": {},
   "outputs": [
    {
     "name": "stdin",
     "output_type": "stream",
     "text": [
      "Enter a range of number:  1\n"
     ]
    },
    {
     "name": "stdout",
     "output_type": "stream",
     "text": [
      "Here is the dictionary of even numbers = dict_values([])\n",
      "Here is the dictionary of odd numbers = dict_values([1])\n",
      "Here is the dictionary of even numbers = dict_keys([])\n",
      "Here is the dictionary of odd numbers = dict_keys([1])\n"
     ]
    }
   ],
   "source": [
    "# dictionaries in python\n",
    "#dictionary is basically key value pair\n",
    "#its an ordered pair, its not like set \n",
    "a = int(input(\"Enter a range of number: \"))\n",
    "\n",
    "even = {}\n",
    "odd = {}\n",
    "\n",
    "for i in range(1, a+1):\n",
    "    if i % 2 == 0:\n",
    "        even[i] = i\n",
    "    else:\n",
    "        odd[i] = i\n",
    "\n",
    "print(f\"Here is the dictionary of even numbers = {even.values()}\")\n",
    "print(f\"Here is the dictionary of odd numbers = {odd.values()}\")\n",
    "\n",
    "for idx, value in enumerate(even.values()):\n",
    "    if idx == 0:   # 2nd index (0-based)\n",
    "        print(\"first even value:\", value)\n",
    "        break\n",
    "#as dict is key pair value, only key can be used to fetch the value\n",
    "#on which keys even and odd numbers are \n",
    "print(f\"Here is the dictionary of even numbers = {even.keys()}\")\n",
    "print(f\"Here is the dictionary of odd numbers = {odd.keys()}\")\n"
   ]
  },
  {
   "cell_type": "code",
   "execution_count": null,
   "id": "08a85623-ce1e-4d0a-abc4-7df0ba6d5649",
   "metadata": {},
   "outputs": [],
   "source": []
  }
 ],
 "metadata": {
  "kernelspec": {
   "display_name": "Python 3 (ipykernel)",
   "language": "python",
   "name": "python3"
  },
  "language_info": {
   "codemirror_mode": {
    "name": "ipython",
    "version": 3
   },
   "file_extension": ".py",
   "mimetype": "text/x-python",
   "name": "python",
   "nbconvert_exporter": "python",
   "pygments_lexer": "ipython3",
   "version": "3.13.0"
  }
 },
 "nbformat": 4,
 "nbformat_minor": 5
}
