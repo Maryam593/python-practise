{
 "cells": [
  {
   "cell_type": "code",
   "execution_count": 4,
   "id": "22292455-6b28-4edc-8480-11490b03bb75",
   "metadata": {},
   "outputs": [
    {
     "name": "stdin",
     "output_type": "stream",
     "text": [
      "Enter your passkey:  rauf\n"
     ]
    },
    {
     "name": "stdout",
     "output_type": "stream",
     "text": [
      "Encoded: Evr45Ddfg567dfdyer34fuar\n",
      "Decoded: rauf\n"
     ]
    }
   ],
   "source": [
    "# Encoding\n",
    "a = input(\"Enter your passkey: \")\n",
    "result = \"Evr45Ddfg567dfdyer34\" + a[::-1]\n",
    "print(\"Encoded:\", result)\n",
    "\n",
    "# Decoding\n",
    "slice = result[::-1]\n",
    "original_passkey = slice[0:len(a)]  # Correct way to extract original input\n",
    "print(\"Decoded:\", original_passkey)\n"
   ]
  },
  {
   "cell_type": "code",
   "execution_count": 5,
   "id": "27cb9e79-58ac-41fe-b68d-00bac4289e76",
   "metadata": {},
   "outputs": [
    {
     "name": "stdin",
     "output_type": "stream",
     "text": [
      "Enter your name abdul\n",
      "Enter your last name rauf\n"
     ]
    },
    {
     "name": "stdout",
     "output_type": "stream",
     "text": [
      "Mirror mirror ! tell me my decode name : ludba fuar\n"
     ]
    }
   ],
   "source": [
    "#mirror effect using slicing\n",
    "a = input(\"Enter your name\")\n",
    "b = input(\"Enter your last name\")\n",
    "c = a[::-1] + \" \" + b[::-1]\n",
    "print(\"Mirror mirror ! tell me my decode name : \" + c)"
   ]
  },
  {
   "cell_type": "code",
   "execution_count": 40,
   "id": "5811fdef-d71b-4ec5-9482-ebed71622e59",
   "metadata": {},
   "outputs": [
    {
     "name": "stdout",
     "output_type": "stream",
     "text": [
      "Hello, Avatar Bot is here\n"
     ]
    },
    {
     "name": "stdin",
     "output_type": "stream",
     "text": [
      "Enter your first name:  maryam\n",
      "Enter your last name:  saba\n"
     ]
    },
    {
     "name": "stdout",
     "output_type": "stream",
     "text": [
      "Your avatar is = MS 😀\n"
     ]
    }
   ],
   "source": [
    "import random\n",
    "\n",
    "print(\"Hello, Avatar Bot is here\")\n",
    "a = input(\"Enter your first name: \")\n",
    "b = input(\"Enter your last name: \")\n",
    "\n",
    "# List of random emojis\n",
    "emojis = [\"😀\", \"🔥\", \"🚀\", \"🌟\", \"💡\", \"🎉\", \"❤️\", \"🐍\", \"💻\", \"🤖\"]\n",
    "\n",
    "# Generate avatar with random emoji\n",
    "avatar = (a[0] + b[0]).upper() + \" \" + random.choice(emojis)  \n",
    "\n",
    "print(f\"Your avatar is = {avatar}\")\n"
   ]
  },
  {
   "cell_type": "code",
   "execution_count": 5,
   "id": "97941dcb-d7bf-419e-8f99-ceeb80416b3a",
   "metadata": {},
   "outputs": [
    {
     "name": "stdin",
     "output_type": "stream",
     "text": [
      "Enter first number:  4\n",
      "Enter second number:  3\n",
      "Enter choice (D, M, A, S, E, Mod):  m\n"
     ]
    },
    {
     "name": "stdout",
     "output_type": "stream",
     "text": [
      "The result is: 12\n"
     ]
    }
   ],
   "source": [
    "#calculator\n",
    "a = int(input(\"Enter first number: \"))\n",
    "b = int(input(\"Enter second number: \"))\n",
    "choice = input(\"Enter choice (D, M, A, S, E, Mod): \").strip().lower()  # Convert to lowercase\n",
    "\n",
    "calc = {\n",
    "    'd': a / b if b != 0 else \"Error (Division by zero)\", \n",
    "    'm': a * b,\n",
    "    'a': a + b,\n",
    "    's': a - b,\n",
    "    'e': a ** b,\n",
    "    'mod': a % b if b != 0 else \"Error (Modulo by zero)\"\n",
    "}\n",
    "\n",
    "if choice in calc:\n",
    "    print(f\"The result is: {calc[choice]}\")\n",
    "else:\n",
    "    print(\"Invalid choice\")\n"
   ]
  },
  {
   "cell_type": "code",
   "execution_count": 5,
   "id": "428fd64f-2bde-4ef9-ba7f-54704393b207",
   "metadata": {},
   "outputs": [
    {
     "name": "stdout",
     "output_type": "stream",
     "text": [
      "MARYAM\n",
      "maryam\n",
      "Hello World\n",
      "Hello world\n",
      "Hello\n"
     ]
    }
   ],
   "source": [
    "#string methods in python\n",
    "#strings are immutable --> means cant modify after initialization\n",
    "# 1** string case converstion methods\n",
    "#1 . upper method\n",
    "a = 'Maryam'\n",
    "print(a.upper())\n",
    "#2 . lower\n",
    "a = 'MARYAM'\n",
    "print(a.lower())\n",
    "#3. title\n",
    "a = 'hello world'\n",
    "print(a.title())\n",
    "#4. capitalize\n",
    "a = 'hello world'\n",
    "print(a.capitalize())\n",
    "a= 'hELLO'\n",
    "print(a.swapcase())"
   ]
  },
  {
   "cell_type": "code",
   "execution_count": 50,
   "id": "6bcb4c92-0edc-4e94-adfa-f9e93fbdc2af",
   "metadata": {},
   "outputs": [
    {
     "name": "stdout",
     "output_type": "stream",
     "text": [
      "False\n",
      "False\n",
      "False\n",
      "False\n",
      "False\n",
      "False\n",
      "                  Hello, Maryam                   \n"
     ]
    }
   ],
   "source": [
    "# 2** String checking methods\n",
    "#1 checking if alphabet\n",
    "password = '12345'\n",
    "print(password.isalpha())\n",
    "#2 checking if digit\n",
    "name = 'Maryam'\n",
    "print(name.isdigit())\n",
    "#3 check if is alphabets or numbers\n",
    "email = 'abc01@gmail.com'\n",
    "print(email.isalnum())\n",
    "#4 empty string hy ky nhi \n",
    "lastName = 'Saba'\n",
    "print(lastName.isspace())\n",
    "#5 starts with specific substring or not\n",
    "nationality = 'Pakistan'\n",
    "print(nationality.startswith('in'))\n",
    "#6 ends with specific substring or not\n",
    "state = 'punjab'\n",
    "# print(state.endswith('ab'))\n",
    "print(state.endswith('dh'))\n",
    "#7 . center the string\n",
    "a = 'Hello, Maryam'\n",
    "print(a.center(50))"
   ]
  },
  {
   "cell_type": "code",
   "execution_count": 21,
   "id": "6de66273-12d3-4653-aaa1-5ec9d1c15cc0",
   "metadata": {},
   "outputs": [
    {
     "name": "stdout",
     "output_type": "stream",
     "text": [
      "4\n",
      "4\n",
      "2\n",
      "Maryam Saba\n"
     ]
    }
   ],
   "source": [
    "#3 ** searching and replacing Methods\n",
    "#1 . Find\n",
    "a = 'abcdef'\n",
    "print(a.find('e'))\n",
    "#2. last occurance ka index return krna \n",
    "a = 'Maryam'\n",
    "print(a.rfind('a'))\n",
    "#3 . count total occurrence\n",
    "a = 'Saba'\n",
    "print(a.count('a'))\n",
    "#4 . replace   ----> syntax string.replace(old,new)\n",
    "a = 'Maryam Khan'\n",
    "print(a.replace('Khan', 'Saba'))"
   ]
  },
  {
   "cell_type": "code",
   "execution_count": 27,
   "id": "73e4575d-31e8-493b-8d0f-3df4b0937afd",
   "metadata": {},
   "outputs": [
    {
     "name": "stdout",
     "output_type": "stream",
     "text": [
      "Mdgfdhsdhdffjhdgfhadgfdhsdhdffjhdgfhrdgfdhsdhdffjhdgfhydgfdhsdhdffjhdgfhadgfdhsdhdffjhdgfhmdgfdhsdhdffjhdgfh\n"
     ]
    }
   ],
   "source": [
    "a = 'Maryam'\n",
    "b = list(a)\n",
    "for i in range(len(b)): \n",
    "    b[i] = b[i] + \"dgfdhsdhdffjhdgfh\" \n",
    "\n",
    "result = ''.join(b)\n",
    "print(result)\n"
   ]
  },
  {
   "cell_type": "code",
   "execution_count": 30,
   "id": "ad7bd830-680d-4843-8eaf-ff019bcc981f",
   "metadata": {},
   "outputs": [
    {
     "name": "stdout",
     "output_type": "stream",
     "text": [
      "i😂have😂a😂cat\n"
     ]
    }
   ],
   "source": [
    "#4 ** split and joining method\n",
    "a = 'i have a cat'\n",
    "b = a.split()\n",
    "result = '😂'.join(b)\n",
    "print(result)"
   ]
  },
  {
   "cell_type": "code",
   "execution_count": 42,
   "id": "d1a305f3-5357-4006-84a2-6314ac4dbffa",
   "metadata": {},
   "outputs": [
    {
     "name": "stdout",
     "output_type": "stream",
     "text": [
      "Maryam\n",
      "hello\n",
      "hello\n"
     ]
    }
   ],
   "source": [
    "#5 **striping methods (removing whitespace)\n",
    "#1 . strip\n",
    "a = ' Maryam'\n",
    "print(a.strip())\n",
    "#2 . lstrip\n",
    "print(' hello'.lstrip())\n",
    "#3 . rstrip\n",
    "print('hello '.rstrip())\n"
   ]
  },
  {
   "cell_type": "code",
   "execution_count": 46,
   "id": "1592b89b-90c2-4876-8a5c-ef9fe84dd072",
   "metadata": {},
   "outputs": [
    {
     "name": "stdout",
     "output_type": "stream",
     "text": [
      "Mdgfdhsdhdffjhdgfhadgfdhsdhdffjhdgfhrdgfdhsdhdffjhdgfhydgfdhsdhdffjhdgfhadgfdhsdhdffjhdgfhmdgfdhsdhdffjhdgfh\n",
      "Maryam\n"
     ]
    }
   ],
   "source": [
    "\n",
    "a = 'Maryam'\n",
    "b = list(a)\n",
    "for i in range(len(b)): \n",
    "    b[i] = b[i] + \"dgfdhsdhdffjhdgfh\" \n",
    "\n",
    "result = ''.join(b)\n",
    "print(result)\n",
    "c = result.replace('dgfdhsdhdffjhdgfh','')\n",
    "print(c)"
   ]
  },
  {
   "cell_type": "code",
   "execution_count": 49,
   "id": "0bc874f3-d85f-409f-8d64-0b001eea1352",
   "metadata": {},
   "outputs": [
    {
     "name": "stdin",
     "output_type": "stream",
     "text": [
      "Enter your name           Maryam\n"
     ]
    },
    {
     "name": "stdout",
     "output_type": "stream",
     "text": [
      "Hello, Maryam\n"
     ]
    }
   ],
   "source": [
    "#striping specifically\n",
    "a = input('Enter your name ').strip()   #rermove extra space user enter\n",
    "print(\"Hello, \" + a)"
   ]
  },
  {
   "cell_type": "code",
   "execution_count": 59,
   "id": "c12f6944-2f36-46eb-a7d0-9c4389d0ee0c",
   "metadata": {},
   "outputs": [
    {
     "name": "stdout",
     "output_type": "stream",
     "text": [
      "Good Afternoon Sir\n"
     ]
    }
   ],
   "source": [
    "from datetime import datetime\n",
    "current = datetime.now().time()\n",
    "if current.hour < 12:\n",
    "    print(\"Good Morning Sir\")\n",
    "elif current.hour < 16:\n",
    "    print(\"Good Afternoon Sir\")\n",
    "elif current.hour < 20:\n",
    "    print(\"Good Evening Sir\")\n",
    "else:\n",
    "    print(\"Good Night Sir\")\n"
   ]
  },
  {
   "cell_type": "code",
   "execution_count": 62,
   "id": "02c45999-5574-494b-9b8c-9d4ee3500d3f",
   "metadata": {},
   "outputs": [
    {
     "name": "stdin",
     "output_type": "stream",
     "text": [
      "Enter a number:  4\n"
     ]
    },
    {
     "name": "stdout",
     "output_type": "stream",
     "text": [
      "Four\n"
     ]
    }
   ],
   "source": [
    "#match case in python\n",
    "a = int(input(\"Enter a number: \"))\n",
    "\n",
    "match a:\n",
    "    case 1: print(\"one\".title())\n",
    "    case 2: print(\"two\".title())\n",
    "    case 3: print(\"three\".title())\n",
    "    case 4: print(\"four\".title())\n",
    "    case 5: print(\"five\".title())\n",
    "    case 6: print(\"six\".title())\n",
    "    case 7: print(\"seven\".title())\n",
    "    case 8: print(\"eight\".title())\n",
    "    case 9: print(\"nine\".title())\n",
    "    case _: print(\"Even\" if a % 2 == 0 else \"Odd\")  \n"
   ]
  },
  {
   "cell_type": "code",
   "execution_count": 80,
   "id": "f4e3875e-5e5a-474d-9244-ad21ac5db1cd",
   "metadata": {},
   "outputs": [
    {
     "name": "stdin",
     "output_type": "stream",
     "text": [
      "Enter 'even' or 'odd':  4\n",
      "Enter the range:  20\n"
     ]
    },
    {
     "name": "stdout",
     "output_type": "stream",
     "text": [
      "Even number: 0\n",
      "Even number: 2\n",
      "Even number: 4\n",
      "Even number: 6\n",
      "Even number: 8\n",
      "Even number: 10\n",
      "Even number: 12\n",
      "Even number: 14\n",
      "Even number: 16\n",
      "Even number: 18\n"
     ]
    }
   ],
   "source": [
    "#even and odd using range\n",
    "# a = int(input(\"Enter a number\"))\n",
    "# b = int(input(\"Enter the range\"))\n",
    "# # even number\n",
    "# for a in range(0,b,2): print(\"Even number\",a)\n",
    "# #odd number \n",
    "# for a in range(1,b,2): print(\"OddNumber\",a)\n",
    "\n",
    "a = int(input(\"Enter 'even' or 'odd': \"))\n",
    "b = int(input(\"Enter the range: \"))  # Range input\n",
    "if b<a: print(\"range must be bigger then number\")\n",
    "elif a%2 == 0:\n",
    "    for i in range(0, b, 2):  \n",
    "        print(\"Even number:\", i)\n",
    "elif a%2 != 0:\n",
    "    for i in range(1, b, 2):  \n",
    "        print(\"Odd number:\", i)\n",
    "else:\n",
    "    print(\"Invalid input! Please enter 'even' or 'odd'.\")\n"
   ]
  },
  {
   "cell_type": "code",
   "execution_count": 83,
   "id": "0a9551f1-e02c-46c9-8776-ff02d48b64ff",
   "metadata": {},
   "outputs": [
    {
     "name": "stdin",
     "output_type": "stream",
     "text": [
      "Guess the number:  55\n"
     ]
    },
    {
     "name": "stdout",
     "output_type": "stream",
     "text": [
      "Too low! Try again.\n"
     ]
    },
    {
     "name": "stdin",
     "output_type": "stream",
     "text": [
      "Guess the number:  44\n"
     ]
    },
    {
     "name": "stdout",
     "output_type": "stream",
     "text": [
      "Too low! Try again.\n"
     ]
    },
    {
     "name": "stdin",
     "output_type": "stream",
     "text": [
      "Guess the number:  60\n"
     ]
    },
    {
     "name": "stdout",
     "output_type": "stream",
     "text": [
      "Too low! Try again.\n"
     ]
    },
    {
     "name": "stdin",
     "output_type": "stream",
     "text": [
      "Guess the number:  64\n"
     ]
    },
    {
     "name": "stdout",
     "output_type": "stream",
     "text": [
      "🎉 Correct! You guessed the number.\n"
     ]
    }
   ],
   "source": [
    "a = 64  # Secret number\n",
    "guess = None  # User guess (initially None)\n",
    "\n",
    "while guess != a:  \n",
    "    guess = int(input(\"Guess the number: \"))  # User se input lo\n",
    "    \n",
    "    if guess < a:\n",
    "        print(\"Too low! Try again.\")\n",
    "    elif guess > a:\n",
    "        print(\"Too high! Try again.\")\n",
    "    else:\n",
    "        print(\"🎉 Correct! You guessed the number.\")\n"
   ]
  },
  {
   "cell_type": "code",
   "execution_count": null,
   "id": "b5ec95db-589f-439a-bc58-6b4c8b3cae6a",
   "metadata": {},
   "outputs": [],
   "source": []
  }
 ],
 "metadata": {
  "kernelspec": {
   "display_name": "Python 3 (ipykernel)",
   "language": "python",
   "name": "python3"
  },
  "language_info": {
   "codemirror_mode": {
    "name": "ipython",
    "version": 3
   },
   "file_extension": ".py",
   "mimetype": "text/x-python",
   "name": "python",
   "nbconvert_exporter": "python",
   "pygments_lexer": "ipython3",
   "version": "3.13.0"
  }
 },
 "nbformat": 4,
 "nbformat_minor": 5
}
