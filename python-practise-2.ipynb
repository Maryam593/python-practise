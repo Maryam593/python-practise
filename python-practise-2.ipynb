{
 "cells": [
  {
   "cell_type": "code",
   "execution_count": 12,
   "id": "8b718272-6382-4a8c-8a82-3c87b4943c11",
   "metadata": {},
   "outputs": [
    {
     "name": "stdout",
     "output_type": "stream",
     "text": [
      "The result is 4.444444444444445 Ohms\n",
      "the gmean is 14.142135623730951\n",
      "the arthimetic mean is 5.5\n",
      "Specifically, the result of arithmetic mean is = 5.0\n",
      "The result of harmonic mean is 6.67\n",
      "the result of series resistor is = 45 ohms\n"
     ]
    }
   ],
   "source": [
    "#find parallel resistor using function\n",
    "#general formula use for parallel resistor... ab /a+b\n",
    "def parallel_resistor(a, b):\n",
    "    result = (a * b) / (a + b)\n",
    "    return result\n",
    "\n",
    "print(f\"The result is {parallel_resistor(5, 40)} Ohms\")\n",
    "\n",
    "#find gmean\n",
    "import math\n",
    "def gmean (a,b) :\n",
    "    result = math.sqrt(a*b)\n",
    "    return result\n",
    "print(f\"the gmean is {gmean(5,40)}\")\n",
    "\n",
    "#find arithmetic mean for upto 2 values\n",
    "def amean (a,b) : \n",
    "    result = (a+b)/2\n",
    "    return result\n",
    "print(f\"the arthimetic mean is {amean(5,6)}\")\n",
    "\n",
    "# amean for specific\n",
    "def amean(*a):\n",
    "    result = sum(a) / len(a)\n",
    "    return result\n",
    "\n",
    "print(f\"Specifically, the result of arithmetic mean is = {amean(6,5,4,5)}\")\n",
    "\n",
    "#Harmonic Mean\n",
    "def hmean(a, b):\n",
    "    result = (2 * a * b) / (a + b)\n",
    "    return result\n",
    "print(f\"The result of harmonic mean is {hmean(5, 10):.2f}\")\n",
    "\n",
    "#series resistor\n",
    "def series_resistor (*a):\n",
    "    # here sum is built in function \n",
    "    #general formuala or series_resistor = R1 + R2 + R3 + R4 ............... Rn\n",
    "    return sum(a)\n",
    "print(f\"the result of series resistor is = {series_resistor(5,16,7,8,9)} ohms\")"
   ]
  },
  {
   "cell_type": "code",
   "execution_count": 19,
   "id": "c15f707a-47ba-4d17-9e6a-45575257ff15",
   "metadata": {},
   "outputs": [
    {
     "name": "stdout",
     "output_type": "stream",
     "text": [
      "120\n"
     ]
    }
   ],
   "source": [
    "#function for factorial\n",
    "def factorial(a):\n",
    "    result = 1\n",
    "    for i in range(1, a + 1):\n",
    "        result *= i\n",
    "    return result\n",
    "\n",
    "print (factorial(5))"
   ]
  },
  {
   "cell_type": "code",
   "execution_count": 21,
   "id": "734f5968-688f-445c-b449-84688c3ce4a7",
   "metadata": {},
   "outputs": [
    {
     "name": "stdin",
     "output_type": "stream",
     "text": [
      "enter your password here abcd\n"
     ]
    },
    {
     "name": "stdout",
     "output_type": "stream",
     "text": [
      "your encrypted password ae@4fabcd567wre456\n"
     ]
    }
   ],
   "source": [
    "#create a password\n",
    "def createPassword (a):\n",
    "    result = \"ae@4f\" + a + \"567wre456\"\n",
    "    return result\n",
    "\n",
    "a = str(input(\"enter your password here\"))\n",
    "print(f\"your encrypted password {createPassword(a)}\")"
   ]
  },
  {
   "cell_type": "code",
   "execution_count": 41,
   "id": "ea720055-92f6-48f9-8a0d-0575c4fcec00",
   "metadata": {},
   "outputs": [
    {
     "name": "stdout",
     "output_type": "stream",
     "text": [
      "average is  5.0\n",
      "average is  4.5\n",
      "Welcome back! Dear Maryam saba\n",
      "30\n",
      "Hello, maryam, people often call you with your last name saba. Or they call you like maryam saba\n",
      "25.2\n"
     ]
    }
   ],
   "source": [
    "#arguments in function\n",
    "#here a,b are required arguments\n",
    "def average (a,b):\n",
    "    print(\"average is \", (a+b)/2)\n",
    "average(4,6)\n",
    "\n",
    "#here a and b are default arguments\n",
    "def averageIs (a=5,b=4):\n",
    "    print(\"average is \", (a+b)/2)\n",
    "averageIs()\n",
    "\n",
    "#keyword arguments \n",
    "\n",
    "def greet(fname,lname):\n",
    "    print(f\"Welcome back! Dear {fname} {lname}\")\n",
    "greet (lname = \"saba\", fname = \"Maryam\") #order doesnt matter here, as soon as it is key value pair.. it will run\n",
    "#variable length argument\n",
    "def add (*num):\n",
    "    print(sum(num))\n",
    "add(5,10,15)\n",
    "#keyword arbitrary argument \n",
    "def greet(**name):\n",
    "    print(f\"Hello, {name['fname']}, people often call you with your last name {name['lname']}. Or they call you like {name['fname']} {name['lname']}\")\n",
    "    \n",
    "greet(fname=\"maryam\", lname=\"saba\")\n",
    "#return statement \n",
    "def average(*num):\n",
    "    total = 0\n",
    "    for i in num:\n",
    "        total += i\n",
    "    return total / len(num)\n",
    "\n",
    "c = average(5, 6, 7,8,100)\n",
    "print(c)\n",
    "\n"
   ]
  },
  {
   "cell_type": "code",
   "execution_count": 51,
   "id": "eed3f069-825c-4c45-a8cc-a3218d774a09",
   "metadata": {},
   "outputs": [
    {
     "name": "stdout",
     "output_type": "stream",
     "text": [
      "apple\n",
      "mango\n",
      "orange\n",
      "negative indexing be like =  mango\n",
      "positive index  apple\n"
     ]
    }
   ],
   "source": [
    "#lists in python\n",
    "#LISTS ARE ORDER COLLECTION OF ITEMS, THEY STORE MULTIPLE ITEMS IN A SINGLE VARIABLE, can store multiple data types\n",
    "#list is mutable while tuple is immutable\n",
    "list_of_fruits = [\"apple\", \"mango\", \"orange\"]\n",
    "\n",
    "for fruit in list_of_fruits:\n",
    "    print(fruit)\n",
    "#negative indexings be like -3 -2 -1\n",
    "print(\"negative indexing be like = \" ,list_of_fruits[-2]) \n",
    "#positive index\n",
    "print(\"positive index \", list_of_fruits[len(list_of_fruits)-3])"
   ]
  },
  {
   "cell_type": "code",
   "execution_count": 59,
   "id": "7ead6b78-f8a6-4291-a209-ef04cb7ed31c",
   "metadata": {},
   "outputs": [
    {
     "name": "stdout",
     "output_type": "stream",
     "text": [
      "4\n"
     ]
    }
   ],
   "source": [
    "def findMissingNumber(lst):\n",
    "    start = min(lst)\n",
    "    end = max(lst)\n",
    "    for i in range(start, end + 1):\n",
    "        if i not in lst:\n",
    "            return i\n",
    "\n",
    "# Test:\n",
    "numbers = [1, 2, 3, 5]\n",
    "print(findMissingNumber(numbers)) \n"
   ]
  },
  {
   "cell_type": "code",
   "execution_count": 58,
   "id": "f4315d6f-a226-4c6f-934d-04698aaac79a",
   "metadata": {},
   "outputs": [
    {
     "name": "stdout",
     "output_type": "stream",
     "text": [
      "[0, 2, 4, 6, 8]\n",
      "[1, 3, 5, 7, 9]\n"
     ]
    }
   ],
   "source": [
    "#jumping index\n",
    "#syntax: nums[start:end]\n",
    "# nums[start:end:gap]\n",
    "nums =[0,1,2,3,4,5,6,7,8,9,10]\n",
    "print(nums[0:len(nums)-1:2]) #prints even\n",
    "print(nums[1:len(nums)-1:2]) #prints odd"
   ]
  },
  {
   "cell_type": "code",
   "execution_count": 61,
   "id": "97bdd8ce-1b68-408e-a1e1-010b3eeee729",
   "metadata": {},
   "outputs": [
    {
     "name": "stdout",
     "output_type": "stream",
     "text": [
      "[0, 1, 2, 3, 4]\n"
     ]
    }
   ],
   "source": [
    "#list comprehension\n",
    "listt = [i for i in range (5)]\n",
    "print(listt)"
   ]
  },
  {
   "cell_type": "code",
   "execution_count": 3,
   "id": "e8e196b8-a409-40f6-82e2-bb72d79e2196",
   "metadata": {},
   "outputs": [
    {
     "name": "stdout",
     "output_type": "stream",
     "text": [
      "[1, 3, 5, 7, 9]\n",
      "[1, 3, 5, 7, 9]\n",
      "[9, 7, 5, 3, 1]\n"
     ]
    }
   ],
   "source": [
    "#methods in list\n",
    "nums = [1,3,5,7]\n",
    "nums.append(9)\n",
    "print (nums)\n",
    "nums.sort() #acending order \n",
    "print(nums)\n",
    "nums.sort(reverse = True) #dscending order\n",
    "print(nums)"
   ]
  },
  {
   "cell_type": "code",
   "execution_count": 7,
   "id": "ab48464b-da3a-403d-bdc8-531f1017544b",
   "metadata": {},
   "outputs": [
    {
     "name": "stdout",
     "output_type": "stream",
     "text": [
      "11:57:11.737428\n",
      "Good Morning Sir\n"
     ]
    }
   ],
   "source": [
    "from datetime import datetime\n",
    "current = datetime.now().time()\n",
    "print(current)\n",
    "\n",
    "if current.hour >= 17: \n",
    "    print(\"Good Evening Sir\")\n",
    "elif current.hour >= 12:  \n",
    "    print(\"Good Afternoon Sir\")\n",
    "else: \n",
    "    print(\"Good Morning Sir\")"
   ]
  },
  {
   "cell_type": "code",
   "execution_count": 29,
   "id": "d5d2af98-f079-4466-b9a3-1eda6a0a342e",
   "metadata": {},
   "outputs": [
    {
     "name": "stdout",
     "output_type": "stream",
     "text": [
      "Welcome to Kon Banega Crorepati!\n",
      "None\n",
      "sawal yeh hy , What is the capital city of France?\n"
     ]
    },
    {
     "name": "stdin",
     "output_type": "stream",
     "text": [
      " boliye kia hy ap ka jawab paris\n"
     ]
    },
    {
     "name": "stdout",
     "output_type": "stream",
     "text": [
      "bilkul sahi jawab, jalty hy agly sawal ki trf\n",
      "sawal yeh hy , Who wrote the play \"Romeo and Juliet\"?\n"
     ]
    },
    {
     "name": "stdin",
     "output_type": "stream",
     "text": [
      " boliye kia hy ap ka jawab me\n"
     ]
    },
    {
     "name": "stdout",
     "output_type": "stream",
     "text": [
      "Ap ka jawab bilkul ghalat hy\n",
      "sawal yeh hy , What is the chemical symbol for water?\n"
     ]
    },
    {
     "name": "stdin",
     "output_type": "stream",
     "text": [
      " boliye kia hy ap ka jawab h2o\n"
     ]
    },
    {
     "name": "stdout",
     "output_type": "stream",
     "text": [
      "bilkul sahi jawab, jalty hy agly sawal ki trf\n",
      "sawal yeh hy , How many continents are there on Earth?\n"
     ]
    },
    {
     "name": "stdin",
     "output_type": "stream",
     "text": [
      " boliye kia hy ap ka jawab 7\n"
     ]
    },
    {
     "name": "stdout",
     "output_type": "stream",
     "text": [
      "Ap ka jawab bilkul ghalat hy\n",
      "sawal yeh hy , In what year did World War II end?\n"
     ]
    },
    {
     "name": "stdin",
     "output_type": "stream",
     "text": [
      " boliye kia hy ap ka jawab 1845\n"
     ]
    },
    {
     "name": "stdout",
     "output_type": "stream",
     "text": [
      "Ap ka jawab bilkul ghalat hy\n",
      "sawal yeh hy , What is the highest mountain in the world?\n"
     ]
    },
    {
     "name": "stdin",
     "output_type": "stream",
     "text": [
      " boliye kia hy ap ka jawab k2\n"
     ]
    },
    {
     "name": "stdout",
     "output_type": "stream",
     "text": [
      "Ap ka jawab bilkul ghalat hy\n",
      "kul mila kr ap ki rqm hoi Rs.2000\n"
     ]
    }
   ],
   "source": [
    "import random\n",
    "\n",
    "questions_answers = [\n",
    "    {\"question\": \"How many continents are there on Earth?\", \"answer\": \"seven\"},\n",
    "    {\"question\": \"What is the highest mountain in the world?\", \"answer\": \"mount everest\"},\n",
    "    {\"question\": 'Who wrote the play \"Romeo and Juliet\"?', \"answer\": \"william shakespeare\"},\n",
    "    {\"question\": \"In what year did World War II end?\", \"answer\": \"1945\"},\n",
    "    {\"question\": \"What is the capital city of France?\", \"answer\": \"paris\"},\n",
    "    {\"question\": \"What is the chemical symbol for water?\", \"answer\": \"h2o\"}\n",
    "]\n",
    "\n",
    "score = 0\n",
    "rupee = 0\n",
    "\n",
    "print(\"Welcome to Kon Banega Crorepati!\")\n",
    "random.shuffle(questions_answers)\n",
    "print(ap_ka_sawal)\n",
    "for qa in questions_answers :\n",
    "    Question = qa[\"question\"]\n",
    "    Answer = qa [\"answer\"]\n",
    "    print(f\"sawal yeh hy , {Question}\")\n",
    "    answer_by_user = input(\" boliye kia hy ap ka jawab\")\n",
    "    if answer_by_user == Answer:\n",
    "        score+= 1\n",
    "        rupee +=1000\n",
    "        print(\"bilkul sahi jawab, jalty hy agly sawal ki trf\")\n",
    "    else: print(\"Ap ka jawab bilkul ghalat hy\")\n",
    "\n",
    "print(f\"kul mila kr ap ki rqm hoi Rs.{rupee}\")\n"
   ]
  },
  {
   "cell_type": "code",
   "execution_count": 1,
   "id": "6c6426df-55e8-4a01-8ac8-accadb80f350",
   "metadata": {},
   "outputs": [],
   "source": [
    "# #dostring and pep-8\n",
    "# Docstrings, short for documentation strings, serve as explanations for\n",
    "#code segments in Python. They are multiline strings enclosed in triple quotes\n",
    "#(\"\"\"Docstring goes here\"\"\" or `'''Docstring goes here''') and are used to document modules, classes, \n",
    "#functions, or methods. Unlike regular comments, docstrings are retained at runtime\n",
    "#and can be accessed using the __doc__ attribute or the help() function.\n"
   ]
  },
  {
   "cell_type": "code",
   "execution_count": null,
   "id": "b9953b88-651e-455e-a822-88b49b3592cf",
   "metadata": {},
   "outputs": [],
   "source": []
  }
 ],
 "metadata": {
  "kernelspec": {
   "display_name": "Python 3 (ipykernel)",
   "language": "python",
   "name": "python3"
  },
  "language_info": {
   "codemirror_mode": {
    "name": "ipython",
    "version": 3
   },
   "file_extension": ".py",
   "mimetype": "text/x-python",
   "name": "python",
   "nbconvert_exporter": "python",
   "pygments_lexer": "ipython3",
   "version": "3.13.0"
  }
 },
 "nbformat": 4,
 "nbformat_minor": 5
}
