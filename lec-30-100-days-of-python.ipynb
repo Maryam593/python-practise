{
 "cells": [
  {
   "cell_type": "code",
   "execution_count": 6,
   "id": "eae1cdda-5166-42db-8dee-154958455878",
   "metadata": {},
   "outputs": [
    {
     "name": "stdout",
     "output_type": "stream",
     "text": [
      "6\n"
     ]
    }
   ],
   "source": [
    "#About Recursion\n",
    "#repeatitve iteration until meet the base case \n",
    "\n",
    "def factorial (a):\n",
    "   if a == 0 or a == 1: return a\n",
    "   else: return a * factorial (a-1)\n",
    "\n",
    "print(factorial(3))\n",
    "    "
   ]
  },
  {
   "cell_type": "code",
   "execution_count": 13,
   "id": "4847591c-47e2-46a0-a42e-106553e9049e",
   "metadata": {},
   "outputs": [
    {
     "name": "stdout",
     "output_type": "stream",
     "text": [
      "55\n"
     ]
    }
   ],
   "source": [
    "#fibonacci series\n",
    "def fibonacci (a):\n",
    "    if a == 0 or a == 1: return a\n",
    "    else: return fibonacci (a-1) + fibonacci (a-2)\n",
    "\n",
    "print(fibonacci(10))\n"
   ]
  },
  {
   "cell_type": "code",
   "execution_count": null,
   "id": "5eaea8f7-3747-4dea-840d-607e1af9833f",
   "metadata": {},
   "outputs": [],
   "source": []
  }
 ],
 "metadata": {
  "kernelspec": {
   "display_name": "Python 3 (ipykernel)",
   "language": "python",
   "name": "python3"
  },
  "language_info": {
   "codemirror_mode": {
    "name": "ipython",
    "version": 3
   },
   "file_extension": ".py",
   "mimetype": "text/x-python",
   "name": "python",
   "nbconvert_exporter": "python",
   "pygments_lexer": "ipython3",
   "version": "3.13.0"
  }
 },
 "nbformat": 4,
 "nbformat_minor": 5
}
